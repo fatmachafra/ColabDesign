{
 "cells": [
  {
   "cell_type": "code",
   "execution_count": 7,
   "metadata": {},
   "outputs": [],
   "source": [
    "import numpy as np\n",
    "import os"
   ]
  },
  {
   "cell_type": "code",
   "execution_count": 8,
   "metadata": {},
   "outputs": [
    {
     "name": "stdout",
     "output_type": "stream",
     "text": [
      "/home/mpg01/MBPC/fatma.chafra01/ColabDesign/af/examples\n",
      "/home/mpg01/MBPC/fatma.chafra01/ColabDesign\n"
     ]
    }
   ],
   "source": [
    "print(os.getcwd())\n",
    "os.chdir('/usr/users/fatma.chafra01/ColabDesign')\n",
    "print(os.getcwd())\n",
    "#can't find colabdesign script if not in ColabDesign main directory"
   ]
  },
  {
   "cell_type": "code",
   "execution_count": 9,
   "metadata": {},
   "outputs": [],
   "source": [
    "from colabdesign.af.alphafold.common import residue_constants"
   ]
  },
  {
   "cell_type": "code",
   "execution_count": 4,
   "metadata": {},
   "outputs": [
    {
     "name": "stdout",
     "output_type": "stream",
     "text": [
      "total seq length 127\n",
      "seq length in structure 117\n",
      "seq length 117\n"
     ]
    }
   ],
   "source": [
    "# forming the bias matrix to fix the nb core positions\n",
    "# total sequence length of nb is: 127\n",
    "total_seq = \"MAEVQLVESGGGLVQPGGSLRLSCTTSTSLFSITTMGWYRQAPGKQRELVASIKRGGGTNYADSMKGRFTISRDNARNTVFLEMNNLTTEDTAVYYCNAAILAYTGEVTNYWGQGTQVTVSSGQAGQ\"\n",
    "print('total seq length', len(total_seq))\n",
    "# structurally represented seq length 117 (including the 7 residue gap in between the two sides of the structure) \n",
    "seq = 'VQLVESGGGLVQPGGSLRLSCTTSTSLFSITTMGWYRQAPGKQRELVASIKRGGGTNYADSMKGRFTISRDNARNTVFLEMNNLTTEDTAVYYCNAAILAYTGEVTNYWGQGTQVTV'\n",
    "print('seq length in structure', len(seq))\n",
    "# make sure to also delete the last part that is not in the structure from the original sequence because it will not be present in the later generated sequence\n",
    "print('seq length', len(seq))\n"
   ]
  },
  {
   "cell_type": "code",
   "execution_count": 5,
   "metadata": {},
   "outputs": [
    {
     "name": "stdout",
     "output_type": "stream",
     "text": [
      "[(1, 24), (32, 50), (56, 96), (109, 117)]\n"
     ]
    }
   ],
   "source": [
    "# previously, thought that there would be a truncation of 19 aa from the start of the sequence upto the point of the first aa of the longest uninterrupted stretch (19-120 positions)\n",
    "# because of the flanking missing structures of the sequence, the aa seq got truncated so had to change the intervals from (1, 27), (35,53), (59,99), (112,127) to:\n",
    "# fix_pos = [(19, 27), (35,53), (59,99), (112,120)]\n",
    "# but this is wrong because then the binder length should have been 120-19 +1 = 102 but it is 117!\n",
    "# fixing this means removing the first 3 aa that are flanking from the first interval and the last 7 amino acids that are flanking from the last interval:\n",
    "fix_pos = [(4, 27), (35,53), (59,99), (112,120)]\n",
    "# then have to restart the indeces from 1 because the first aa is the fourth aa (subtract 3 from each position):\n",
    "fix_pos = [(1, 24), (32,50), (56,96), (109,117)]\n",
    "print(fix_pos)"
   ]
  },
  {
   "cell_type": "code",
   "execution_count": 10,
   "metadata": {},
   "outputs": [
    {
     "name": "stdout",
     "output_type": "stream",
     "text": [
      "0 23\n",
      "0 V\n",
      "bias added to:0 as V\n",
      "1 Q\n",
      "bias added to:1 as Q\n",
      "2 L\n",
      "bias added to:2 as L\n",
      "3 V\n",
      "bias added to:3 as V\n",
      "4 E\n",
      "bias added to:4 as E\n",
      "5 S\n",
      "bias added to:5 as S\n",
      "6 G\n",
      "bias added to:6 as G\n",
      "7 G\n",
      "bias added to:7 as G\n",
      "8 G\n",
      "bias added to:8 as G\n",
      "9 L\n",
      "bias added to:9 as L\n",
      "10 V\n",
      "bias added to:10 as V\n",
      "11 Q\n",
      "bias added to:11 as Q\n",
      "12 P\n",
      "bias added to:12 as P\n",
      "13 G\n",
      "bias added to:13 as G\n",
      "14 G\n",
      "bias added to:14 as G\n",
      "15 S\n",
      "bias added to:15 as S\n",
      "16 L\n",
      "bias added to:16 as L\n",
      "17 R\n",
      "bias added to:17 as R\n",
      "18 L\n",
      "bias added to:18 as L\n",
      "19 S\n",
      "bias added to:19 as S\n",
      "20 C\n",
      "bias added to:20 as C\n",
      "21 T\n",
      "bias added to:21 as T\n",
      "22 T\n",
      "bias added to:22 as T\n",
      "23 S\n",
      "bias added to:23 as S\n",
      "31 49\n",
      "31 T\n",
      "bias added to:31 as T\n",
      "32 M\n",
      "bias added to:32 as M\n",
      "33 G\n",
      "bias added to:33 as G\n",
      "34 W\n",
      "bias added to:34 as W\n",
      "35 Y\n",
      "bias added to:35 as Y\n",
      "36 R\n",
      "bias added to:36 as R\n",
      "37 Q\n",
      "bias added to:37 as Q\n",
      "38 A\n",
      "bias added to:38 as A\n",
      "39 P\n",
      "bias added to:39 as P\n",
      "40 G\n",
      "bias added to:40 as G\n",
      "41 K\n",
      "bias added to:41 as K\n",
      "42 Q\n",
      "bias added to:42 as Q\n",
      "43 R\n",
      "bias added to:43 as R\n",
      "44 E\n",
      "bias added to:44 as E\n",
      "45 L\n",
      "bias added to:45 as L\n",
      "46 V\n",
      "bias added to:46 as V\n",
      "47 A\n",
      "bias added to:47 as A\n",
      "48 S\n",
      "bias added to:48 as S\n",
      "49 I\n",
      "bias added to:49 as I\n",
      "55 95\n",
      "55 T\n",
      "bias added to:55 as T\n",
      "56 N\n",
      "bias added to:56 as N\n",
      "57 Y\n",
      "bias added to:57 as Y\n",
      "58 A\n",
      "bias added to:58 as A\n",
      "59 D\n",
      "bias added to:59 as D\n",
      "60 S\n",
      "bias added to:60 as S\n",
      "61 M\n",
      "bias added to:61 as M\n",
      "62 K\n",
      "bias added to:62 as K\n",
      "63 G\n",
      "bias added to:63 as G\n",
      "64 R\n",
      "bias added to:64 as R\n",
      "65 F\n",
      "bias added to:65 as F\n",
      "66 T\n",
      "bias added to:66 as T\n",
      "67 I\n",
      "bias added to:67 as I\n",
      "68 S\n",
      "bias added to:68 as S\n",
      "69 R\n",
      "bias added to:69 as R\n",
      "70 D\n",
      "bias added to:70 as D\n",
      "71 N\n",
      "bias added to:71 as N\n",
      "72 A\n",
      "bias added to:72 as A\n",
      "73 R\n",
      "bias added to:73 as R\n",
      "74 N\n",
      "bias added to:74 as N\n",
      "75 T\n",
      "bias added to:75 as T\n",
      "76 V\n",
      "bias added to:76 as V\n",
      "77 F\n",
      "bias added to:77 as F\n",
      "78 L\n",
      "bias added to:78 as L\n",
      "79 E\n",
      "bias added to:79 as E\n",
      "80 M\n",
      "bias added to:80 as M\n",
      "81 N\n",
      "bias added to:81 as N\n",
      "82 N\n",
      "bias added to:82 as N\n",
      "83 L\n",
      "bias added to:83 as L\n",
      "84 T\n",
      "bias added to:84 as T\n",
      "85 T\n",
      "bias added to:85 as T\n",
      "86 E\n",
      "bias added to:86 as E\n",
      "87 D\n",
      "bias added to:87 as D\n",
      "88 T\n",
      "bias added to:88 as T\n",
      "89 A\n",
      "bias added to:89 as A\n",
      "90 V\n",
      "bias added to:90 as V\n",
      "91 Y\n",
      "bias added to:91 as Y\n",
      "92 Y\n",
      "bias added to:92 as Y\n",
      "93 C\n",
      "bias added to:93 as C\n",
      "94 N\n",
      "bias added to:94 as N\n",
      "95 A\n",
      "bias added to:95 as A\n",
      "108 116\n",
      "108 W\n",
      "bias added to:108 as W\n",
      "109 G\n",
      "bias added to:109 as G\n",
      "110 Q\n",
      "bias added to:110 as Q\n",
      "111 G\n",
      "bias added to:111 as G\n",
      "112 T\n",
      "bias added to:112 as T\n",
      "113 Q\n",
      "bias added to:113 as Q\n",
      "114 V\n",
      "bias added to:114 as V\n",
      "115 T\n",
      "bias added to:115 as T\n",
      "116 V\n",
      "bias added to:116 as V\n",
      "bias matrix [[0.e+00 0.e+00 0.e+00 ... 0.e+00 0.e+00 1.e+08]\n",
      " [0.e+00 0.e+00 0.e+00 ... 0.e+00 0.e+00 0.e+00]\n",
      " [0.e+00 0.e+00 0.e+00 ... 0.e+00 0.e+00 0.e+00]\n",
      " ...\n",
      " [0.e+00 0.e+00 0.e+00 ... 0.e+00 0.e+00 1.e+08]\n",
      " [0.e+00 0.e+00 0.e+00 ... 0.e+00 0.e+00 0.e+00]\n",
      " [0.e+00 0.e+00 0.e+00 ... 0.e+00 0.e+00 1.e+08]]\n"
     ]
    }
   ],
   "source": [
    "# instead trying to make a bias matrix as suggested here: https://github.com/sokrypton/ColabDesign/issues/107\n",
    "binder_len = 117\n",
    "# get a bias matrix of the dimensions (no of rows: binder length, no of cols: all 20 amino acids as a one hot)\n",
    "bias = np.zeros((binder_len,20))\n",
    "for item in fix_pos:\n",
    "  start = item[0] -1\n",
    "  end = item[1] -1\n",
    "  print(start, end)\n",
    "  while start <= end:\n",
    "    aa = seq[start]\n",
    "    print(start, aa)\n",
    "    bias[start,residue_constants.restype_order[str(aa)]] = 1e8\n",
    "    print(f'bias added to:{start} as {aa}')\n",
    "    start += 1\n",
    "    # because the index changed once the pdb file was truncated\n",
    "    # bias[start-19,residue_constants.restype_order[str(aa)]] = 1e8\n",
    "    # order comes from residue_constants.restype_order[str(aa)]\n",
    "    \n",
    "print('bias matrix', bias)"
   ]
  },
  {
   "cell_type": "code",
   "execution_count": 11,
   "metadata": {},
   "outputs": [
    {
     "name": "stdout",
     "output_type": "stream",
     "text": [
      "[0.e+00 0.e+00 0.e+00 0.e+00 0.e+00 0.e+00 0.e+00 0.e+00 0.e+00 0.e+00\n",
      " 1.e+08 0.e+00 0.e+00 0.e+00 0.e+00 0.e+00 0.e+00 0.e+00 0.e+00 0.e+00]\n",
      "Rows without 1.0e+08 in bias matrix: [ 24  25  26  27  28  29  30  50  51  52  53  54  96  97  98  99 100 101\n",
      " 102 103 104 105 106 107]\n"
     ]
    }
   ],
   "source": [
    "# check whether the bias matrix makes sense by randomly printing out a row that has to contain a serine (pos 19 according to prev numbering, now pos 19 - 3 so 16)\n",
    "print(bias[16,:])\n",
    "# I don't know the order of the one hot but it is not exactly the alphabetically ordered classical one hot\n",
    "def find_rows_without_value(arr, value):\n",
    "    # Check each row for the presence of the value\n",
    "    rows_with_value = np.any(np.isclose(arr, value), axis=1)\n",
    "\n",
    "    # Get the indices of rows that don't have the value\n",
    "    rows_without_value = np.where(~rows_with_value)[0]\n",
    "\n",
    "    return rows_without_value\n",
    "\n",
    "print(\"Rows without 1.0e+08 in bias matrix:\", find_rows_without_value(bias, 1.0e+08))"
   ]
  },
  {
   "cell_type": "code",
   "execution_count": 13,
   "metadata": {},
   "outputs": [
    {
     "data": {
      "text/plain": [
       "True"
      ]
     },
     "execution_count": 13,
     "metadata": {},
     "output_type": "execute_result"
    }
   ],
   "source": [
    "# check the bias matrix shape:\n",
    "bias.shape == (binder_len,20)"
   ]
  },
  {
   "cell_type": "code",
   "execution_count": 14,
   "metadata": {},
   "outputs": [],
   "source": [
    "# write a function to output the bias matrix into a csv file with filename bias_matrix_8ee2.csv\n",
    "# Save the matrix to a CSV file\n",
    "np.savetxt(\"bias_matrix_8ee2.csv\",bias, delimiter=\",\", fmt=\"%.2f\")"
   ]
  }
 ],
 "metadata": {
  "kernelspec": {
   "display_name": "Python 3",
   "language": "python",
   "name": "python3"
  },
  "language_info": {
   "codemirror_mode": {
    "name": "ipython",
    "version": 3
   },
   "file_extension": ".py",
   "mimetype": "text/x-python",
   "name": "python",
   "nbconvert_exporter": "python",
   "pygments_lexer": "ipython3",
   "version": "3.10.12"
  }
 },
 "nbformat": 4,
 "nbformat_minor": 2
}
