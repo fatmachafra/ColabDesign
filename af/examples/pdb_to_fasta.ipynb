{
 "cells": [
  {
   "cell_type": "code",
   "execution_count": 34,
   "metadata": {},
   "outputs": [],
   "source": [
    "from Bio import SeqIO\n",
    "from Bio.PDB import PDBParser\n",
    "from Bio.Seq import Seq\n",
    "from Bio.SeqRecord import SeqRecord\n",
    "\n",
    "# Dictionary to map three-letter amino acid codes to single-letter codes\n",
    "three_to_one = {\n",
    "    \"ALA\": \"A\", \"CYS\": \"C\", \"ASP\": \"D\", \"GLU\": \"E\", \"PHE\": \"F\",\n",
    "    \"GLY\": \"G\", \"HIS\": \"H\", \"ILE\": \"I\", \"LYS\": \"K\", \"LEU\": \"L\",\n",
    "    \"MET\": \"M\", \"ASN\": \"N\", \"PRO\": \"P\", \"GLN\": \"Q\", \"ARG\": \"R\",\n",
    "    \"SER\": \"S\", \"THR\": \"T\", \"VAL\": \"V\", \"TRP\": \"W\", \"TYR\": \"Y\"\n",
    "}\n",
    "\n",
    "def pdb_to_fasta_specific_chains(pdb_file, output_file, dir_name, chain_list):\n",
    "    # Parse the PDB file\n",
    "    parser = PDBParser(QUIET=True)  # QUIET=True suppresses warnings\n",
    "    structure = parser.get_structure(\"protein\", pdb_file)\n",
    "    \n",
    "    # Get the first model\n",
    "    model = structure[0]\n",
    "    \n",
    "    # List to store SeqRecord objects for specified chains\n",
    "    records = []\n",
    "    \n",
    "    # Iterate through specified chains in the model\n",
    "    for chain_id in chain_list:\n",
    "        if chain_id in model:\n",
    "            chain = model[chain_id]\n",
    "            sequence = \"\"\n",
    "            \n",
    "            # Extract the sequence from the chain\n",
    "            for residue in chain:\n",
    "                if residue.get_id()[0] == \" \":  # Check if it's a standard amino acid\n",
    "                    resname = residue.resname  # Get three-letter code\n",
    "                    if resname in three_to_one:  # Convert to single-letter code\n",
    "                        sequence += three_to_one[resname]\n",
    "                    else:\n",
    "                        print(f\"Warning: Unknown residue {resname} in chain {chain_id}\")\n",
    "            \n",
    "            # Create a SeqRecord object for the chain\n",
    "            pdb_desc = pdb_file.split(f'{dir_name}/')[-1].split('.pdb')[0]\n",
    "            record = SeqRecord(\n",
    "                Seq(sequence),\n",
    "                id=f\"{pdb_desc}_chain_{chain_id}\",\n",
    "                description=f\"\"\n",
    "            )\n",
    "            records.append(record)\n",
    "        else:\n",
    "            print(f\"Warning: Chain {chain_id} not found in the PDB file.\")\n",
    "    \n",
    "    # Write all sequences to a FASTA file\n",
    "    SeqIO.write(records, output_file, \"fasta\")\n"
   ]
  },
  {
   "cell_type": "code",
   "execution_count": 29,
   "metadata": {},
   "outputs": [],
   "source": [
    "# Usage\n",
    "pdb_file = \"/usr/users/fatma.chafra01/ColabDesign/af/examples/8ee2_2/8ee2_2_4A_contact_pssm_semigreedy_adam_0_120_32_0.01_models_5_weights_0.0_0.19_0.0_0.0_0.0_0.0_0.19_0.19_0.19_0.19_0.048_c38_use_templates_True_rm_template_ic_False_bias_True_num_recycles_3.pdb\"\n",
    "output_file = \"/usr/users/fatma.chafra01/ColabDesign/af/examples/8ee2_2/8ee2_2_4A_contact_pssm_semigreedy_adam_0_120_32_0.01_models_5_weights_0.0_0.19_0.0_0.0_0.0_0.0_0.19_0.19_0.19_0.19_0.048_c38_use_templates_True_rm_template_ic_False_bias_True_num_recycles_3.fasta\"\n",
    "chain_list = ['A','B']  # Specify the chains you want to extract\n",
    "pdb_to_fasta_specific_chains(pdb_file, output_file, '8ee2_2', chain_list)"
   ]
  },
  {
   "cell_type": "code",
   "execution_count": 30,
   "metadata": {},
   "outputs": [
    {
     "name": "stdout",
     "output_type": "stream",
     "text": [
      "['/usr/users/fatma.chafra01/ColabDesign/af/examples/8ee2_2/8ee2_2_4A_contact_pssm_semigreedy_adam_0_120_32_0.01_models_5_weights_0.0_0.078_0.0_0.0_0.0_0.0_0.039_0.392_0.392_0.078_0.02_c38_use_templates_True_rm_template_ic_False_bias_True_num_recycles_3.pdb', '/usr/users/fatma.chafra01/ColabDesign/af/examples/8ee2_2/8ee2_2_4A_contact_pssm_semigreedy_adam_0_120_32_0.01_models_5_weights_0.0_0.133_0.0_0.0_0.0_0.0_0.133_0.267_0.267_0.133_0.067_c38_use_templates_True_rm_template_ic_False_bias_True_num_recycles_3.pdb', '/usr/users/fatma.chafra01/ColabDesign/af/examples/8ee2_2/8ee2_2_4A_contact_pssm_semigreedy_adam_0_120_32_0.01_models_5_weights_0.0_0.152_0.0_0.0_0.0_0.0_0.076_0.304_0.304_0.152_0.013_c38_use_templates_True_rm_template_ic_False_bias_True_num_recycles_3.pdb', '/usr/users/fatma.chafra01/ColabDesign/af/examples/8ee2_2/8ee2_2_4A_contact_pssm_semigreedy_adam_0_120_32_0.01_models_5_weights_0.0_0.216_0.0_0.0_0.0_0.0_0.108_0.216_0.216_0.216_0.027_c38_use_templates_True_rm_template_ic_False_bias_True_num_recycles_3.pdb', '/usr/users/fatma.chafra01/ColabDesign/af/examples/8ee2_2/8ee2_2_4A_contact_pssm_semigreedy_adam_0_120_32_0.01_models_5_weights_0.0_0.229_0.0_0.0_0.0_0.0_0.057_0.229_0.229_0.229_0.029_c38_use_templates_True_rm_template_ic_False_bias_True_num_recycles_3.pdb', '/usr/users/fatma.chafra01/ColabDesign/af/examples/8ee2_2/8ee2_2_4A_contact_pssm_semigreedy_adam_0_120_32_0.01_models_5_weights_0.0_0.151_0.0_0.0_0.0_0.0_0.075_0.302_0.302_0.151_0.019_c38_use_templates_True_rm_template_ic_False_bias_True_num_recycles_3.pdb', '/usr/users/fatma.chafra01/ColabDesign/af/examples/8ee2_2/8ee2_2_4A_contact_pssm_semigreedy_adam_0_120_32_0.01_models_5_weights_0.0_0.148_0.0_0.0_0.0_0.0_0.074_0.296_0.296_0.148_0.037_c38_use_templates_True_rm_template_ic_False_bias_True_num_recycles_3.pdb', '/usr/users/fatma.chafra01/ColabDesign/af/examples/8ee2_2/8ee2_2_4A_contact_pssm_semigreedy_adam_0_120_32_0.01_models_5_weights_0.0_0.131_0.0_0.0_0.0_0.0_0.066_0.328_0.328_0.131_0.016_c38_use_templates_True_rm_template_ic_False_bias_True_num_recycles_3.pdb', '/usr/users/fatma.chafra01/ColabDesign/af/examples/8ee2_2/8ee2_2_4A_contact_pssm_semigreedy_adam_0_120_32_0.01_models_5_weights_0.0_0.19_0.0_0.0_0.0_0.0_0.19_0.19_0.19_0.19_0.048_c38_use_templates_True_rm_template_ic_False_bias_True_num_recycles_3.pdb', '/usr/users/fatma.chafra01/ColabDesign/af/examples/8ee2_2/8ee2_2_4A_contact_pssm_semigreedy_adam_0_120_32_0.01_models_5_weights_0.0_0.211_0.0_0.0_0.0_0.0_0.105_0.211_0.211_0.211_0.053_c38_use_templates_True_rm_template_ic_False_bias_True_num_recycles_3.pdb']\n",
      "['/usr/users/fatma.chafra01/ColabDesign/af/examples/8ee2_2/8ee2_2_4A_contact_pssm_semigreedy_adam_0_120_32_0.01_models_5_weights_0.0_0.078_0.0_0.0_0.0_0.0_0.039_0.392_0.392_0.078_0.02_c38_use_templates_True_rm_template_ic_False_bias_True_num_recycles_3.fasta', '/usr/users/fatma.chafra01/ColabDesign/af/examples/8ee2_2/8ee2_2_4A_contact_pssm_semigreedy_adam_0_120_32_0.01_models_5_weights_0.0_0.133_0.0_0.0_0.0_0.0_0.133_0.267_0.267_0.133_0.067_c38_use_templates_True_rm_template_ic_False_bias_True_num_recycles_3.fasta', '/usr/users/fatma.chafra01/ColabDesign/af/examples/8ee2_2/8ee2_2_4A_contact_pssm_semigreedy_adam_0_120_32_0.01_models_5_weights_0.0_0.152_0.0_0.0_0.0_0.0_0.076_0.304_0.304_0.152_0.013_c38_use_templates_True_rm_template_ic_False_bias_True_num_recycles_3.fasta', '/usr/users/fatma.chafra01/ColabDesign/af/examples/8ee2_2/8ee2_2_4A_contact_pssm_semigreedy_adam_0_120_32_0.01_models_5_weights_0.0_0.216_0.0_0.0_0.0_0.0_0.108_0.216_0.216_0.216_0.027_c38_use_templates_True_rm_template_ic_False_bias_True_num_recycles_3.fasta', '/usr/users/fatma.chafra01/ColabDesign/af/examples/8ee2_2/8ee2_2_4A_contact_pssm_semigreedy_adam_0_120_32_0.01_models_5_weights_0.0_0.229_0.0_0.0_0.0_0.0_0.057_0.229_0.229_0.229_0.029_c38_use_templates_True_rm_template_ic_False_bias_True_num_recycles_3.fasta', '/usr/users/fatma.chafra01/ColabDesign/af/examples/8ee2_2/8ee2_2_4A_contact_pssm_semigreedy_adam_0_120_32_0.01_models_5_weights_0.0_0.151_0.0_0.0_0.0_0.0_0.075_0.302_0.302_0.151_0.019_c38_use_templates_True_rm_template_ic_False_bias_True_num_recycles_3.fasta', '/usr/users/fatma.chafra01/ColabDesign/af/examples/8ee2_2/8ee2_2_4A_contact_pssm_semigreedy_adam_0_120_32_0.01_models_5_weights_0.0_0.148_0.0_0.0_0.0_0.0_0.074_0.296_0.296_0.148_0.037_c38_use_templates_True_rm_template_ic_False_bias_True_num_recycles_3.fasta', '/usr/users/fatma.chafra01/ColabDesign/af/examples/8ee2_2/8ee2_2_4A_contact_pssm_semigreedy_adam_0_120_32_0.01_models_5_weights_0.0_0.131_0.0_0.0_0.0_0.0_0.066_0.328_0.328_0.131_0.016_c38_use_templates_True_rm_template_ic_False_bias_True_num_recycles_3.fasta', '/usr/users/fatma.chafra01/ColabDesign/af/examples/8ee2_2/8ee2_2_4A_contact_pssm_semigreedy_adam_0_120_32_0.01_models_5_weights_0.0_0.19_0.0_0.0_0.0_0.0_0.19_0.19_0.19_0.19_0.048_c38_use_templates_True_rm_template_ic_False_bias_True_num_recycles_3.fasta', '/usr/users/fatma.chafra01/ColabDesign/af/examples/8ee2_2/8ee2_2_4A_contact_pssm_semigreedy_adam_0_120_32_0.01_models_5_weights_0.0_0.211_0.0_0.0_0.0_0.0_0.105_0.211_0.211_0.211_0.053_c38_use_templates_True_rm_template_ic_False_bias_True_num_recycles_3.fasta']\n"
     ]
    }
   ],
   "source": [
    "import os\n",
    "directory = '/usr/users/fatma.chafra01/ColabDesign/af/examples/8ee2_2'\n",
    "pdb_files = [os.path.join(directory, f) for f in os.listdir(directory) if f.endswith('.pdb')]\n",
    "output_files = [f\"{directory}/{f.split('8ee2_2/')[-1].split('.pdb')[0]}.fasta\" for f in pdb_files]\n",
    "print(pdb_files)\n",
    "print(output_files)"
   ]
  },
  {
   "cell_type": "code",
   "execution_count": 31,
   "metadata": {},
   "outputs": [],
   "source": [
    "for i in range(len(pdb_files)):\n",
    "    pdb_to_fasta_specific_chains(pdb_files[i], output_files[i], '8ee2_2', ['B'])"
   ]
  },
  {
   "cell_type": "code",
   "execution_count": 32,
   "metadata": {},
   "outputs": [
    {
     "name": "stdout",
     "output_type": "stream",
     "text": [
      "['/usr/users/fatma.chafra01/ColabDesign/af/examples/8ee2_3/8ee2_3_4A_contact_pssm_semigreedy_adam_0_120_32_0.001_models_3_weights_0.0_0.0_0.0_0.0_0.0_0.0_1.0_0.0_0.0_0.0_0.0_c38_use_templates_True_rm_template_ic_False_bias_True_num_recycles_3.pdb', '/usr/users/fatma.chafra01/ColabDesign/af/examples/8ee2_3/8ee2_3_4A_contact_pssm_semigreedy_adam_0_120_32_0.005_models_3_weights_0.0_1.0_0.0_0.0_0.0_0.0_0.0_0.0_0.0_0.0_0.0_c38_use_templates_True_rm_template_ic_False_bias_True_num_recycles_3.pdb', '/usr/users/fatma.chafra01/ColabDesign/af/examples/8ee2_3/8ee2_3_4A_contact_pssm_semigreedy_adam_0_120_32_0.001_models_3_weights_0.0_0.0_0.0_0.0_0.0_0.0_0.0_0.0_0.0_1.0_0.0_c38_use_templates_True_rm_template_ic_False_bias_True_num_recycles_3.pdb', '/usr/users/fatma.chafra01/ColabDesign/af/examples/8ee2_3/8ee2_3_4A_contact_pssm_semigreedy_adam_0_120_32_0.001_models_3_weights_0.0_1.0_0.0_0.0_0.0_0.0_0.0_0.0_0.0_0.0_0.0_c38_use_templates_True_rm_template_ic_False_bias_True_num_recycles_3.pdb', '/usr/users/fatma.chafra01/ColabDesign/af/examples/8ee2_3/8ee2_3_4A_contact_pssm_semigreedy_adam_0_120_32_0.005_models_3_weights_0.0_0.0_0.0_0.0_0.0_0.0_1.0_0.0_0.0_0.0_0.0_c38_use_templates_True_rm_template_ic_False_bias_True_num_recycles_3.pdb', '/usr/users/fatma.chafra01/ColabDesign/af/examples/8ee2_3/8ee2_3_4A_contact_pssm_semigreedy_adam_0_120_32_0.005_models_3_weights_0.0_0.0_0.0_0.0_0.0_0.0_0.0_0.0_0.0_1.0_0.0_c38_use_templates_True_rm_template_ic_False_bias_True_num_recycles_3.pdb']\n",
      "6\n",
      "['/usr/users/fatma.chafra01/ColabDesign/af/examples/8ee2_3/8ee2_3_4A_contact_pssm_semigreedy_adam_0_120_32_0.001_models_3_weights_0.0_0.0_0.0_0.0_0.0_0.0_1.0_0.0_0.0_0.0_0.0_c38_use_templates_True_rm_template_ic_False_bias_True_num_recycles_3.fasta', '/usr/users/fatma.chafra01/ColabDesign/af/examples/8ee2_3/8ee2_3_4A_contact_pssm_semigreedy_adam_0_120_32_0.005_models_3_weights_0.0_1.0_0.0_0.0_0.0_0.0_0.0_0.0_0.0_0.0_0.0_c38_use_templates_True_rm_template_ic_False_bias_True_num_recycles_3.fasta', '/usr/users/fatma.chafra01/ColabDesign/af/examples/8ee2_3/8ee2_3_4A_contact_pssm_semigreedy_adam_0_120_32_0.001_models_3_weights_0.0_0.0_0.0_0.0_0.0_0.0_0.0_0.0_0.0_1.0_0.0_c38_use_templates_True_rm_template_ic_False_bias_True_num_recycles_3.fasta', '/usr/users/fatma.chafra01/ColabDesign/af/examples/8ee2_3/8ee2_3_4A_contact_pssm_semigreedy_adam_0_120_32_0.001_models_3_weights_0.0_1.0_0.0_0.0_0.0_0.0_0.0_0.0_0.0_0.0_0.0_c38_use_templates_True_rm_template_ic_False_bias_True_num_recycles_3.fasta', '/usr/users/fatma.chafra01/ColabDesign/af/examples/8ee2_3/8ee2_3_4A_contact_pssm_semigreedy_adam_0_120_32_0.005_models_3_weights_0.0_0.0_0.0_0.0_0.0_0.0_1.0_0.0_0.0_0.0_0.0_c38_use_templates_True_rm_template_ic_False_bias_True_num_recycles_3.fasta', '/usr/users/fatma.chafra01/ColabDesign/af/examples/8ee2_3/8ee2_3_4A_contact_pssm_semigreedy_adam_0_120_32_0.005_models_3_weights_0.0_0.0_0.0_0.0_0.0_0.0_0.0_0.0_0.0_1.0_0.0_c38_use_templates_True_rm_template_ic_False_bias_True_num_recycles_3.fasta']\n"
     ]
    }
   ],
   "source": [
    "directory = '/usr/users/fatma.chafra01/ColabDesign/af/examples/8ee2_3'\n",
    "pdb_files = [os.path.join(directory, f) for f in os.listdir(directory) if f.endswith('.pdb')]\n",
    "output_files = [f\"{directory}/{f.split('8ee2_3/')[-1].split('.pdb')[0]}.fasta\" for f in pdb_files]\n",
    "print(pdb_files)\n",
    "print(len(pdb_files))\n",
    "print(output_files)"
   ]
  },
  {
   "cell_type": "code",
   "execution_count": 36,
   "metadata": {},
   "outputs": [],
   "source": [
    "for i in range(len(pdb_files)):\n",
    "    pdb_to_fasta_specific_chains(pdb_files[i], output_files[i], '8ee2_3', ['B'])"
   ]
  }
 ],
 "metadata": {
  "kernelspec": {
   "display_name": "Python 3",
   "language": "python",
   "name": "python3"
  },
  "language_info": {
   "codemirror_mode": {
    "name": "ipython",
    "version": 3
   },
   "file_extension": ".py",
   "mimetype": "text/x-python",
   "name": "python",
   "nbconvert_exporter": "python",
   "pygments_lexer": "ipython3",
   "version": "3.10.12"
  }
 },
 "nbformat": 4,
 "nbformat_minor": 2
}
