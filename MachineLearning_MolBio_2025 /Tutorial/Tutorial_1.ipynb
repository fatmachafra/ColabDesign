{
  "cells": [
    {
      "cell_type": "markdown",
      "metadata": {
        "id": "view-in-github",
        "colab_type": "text"
      },
      "source": [
        "<a href=\"https://colab.research.google.com/github/fatmachafra/ColabDesign/blob/main/MachineLearning_MolBio_2025%20/Tutorial/Tutorial_1.ipynb\" target=\"_parent\"><img src=\"https://colab.research.google.com/assets/colab-badge.svg\" alt=\"Open In Colab\"/></a>"
      ]
    },
    {
      "cell_type": "markdown",
      "metadata": {
        "id": "7s5I4jttVepB"
      },
      "source": [
        "# **Machine Learning - Practical 1 - Linear Regression**\n",
        "\n"
      ]
    },
    {
      "cell_type": "markdown",
      "metadata": {
        "id": "gzXqrpMuVepC"
      },
      "source": [
        "## **Imports**\n",
        "\n",
        "## Jupyter Notebook provides the possibility of using libraries, functions and variables globally. This means, once you import the libraries, functions, etc. you won't have to import them again in the next cell. However, if for any reason you end the session (crash, timeout, etc.), then you'll have to run this cell to have your libraries imported again. So, let's go ahead and import whatever we need in this homework assignment.\n",
        "\n",
        "## Note: If you are not running in colab, you might need to install some libraries and packages. You can install libraries using `!pip install LIBNAME`."
      ]
    },
    {
      "cell_type": "code",
      "execution_count": null,
      "metadata": {
        "execution": {
          "iopub.execute_input": "2020-05-28T07:36:43.107Z",
          "iopub.status.busy": "2020-05-28T07:36:43.081Z",
          "iopub.status.idle": "2020-05-28T07:36:44.905Z",
          "shell.execute_reply": "2020-05-28T07:36:44.989Z"
        },
        "id": "YZ7bAxXTVepD"
      },
      "outputs": [],
      "source": [
        "%matplotlib inline\n",
        "\n",
        "import pandas as pd\n",
        "import seaborn as sns\n",
        "import matplotlib.pyplot as plt\n",
        "import numpy as np\n",
        "from sklearn import linear_model\n",
        "from sklearn.metrics import mean_squared_error, r2_score\n",
        "from scipy.stats import spearmanr"
      ]
    },
    {
      "cell_type": "markdown",
      "metadata": {
        "id": "VVbYzLA0VepD"
      },
      "source": [
        "## The  dataset"
      ]
    },
    {
      "cell_type": "markdown",
      "metadata": {
        "id": "b15xbGfmVepD"
      },
      "source": [
        "## The dataset consists of over 20.000 materials and lists their physical features. From these features, we want to learn how to predict the critical temperature, i.e. the temperature we need to cool the material to so it becomes superconductive. First load and familiarize yourself with the data set a bit.\n",
        "\n",
        "## Please upload the superconduct_train.csv file into this Colab session. Drag and drop the file onto the files tab on the left."
      ]
    },
    {
      "cell_type": "code",
      "execution_count": null,
      "metadata": {
        "execution": {
          "iopub.execute_input": "2020-05-28T07:36:44.962Z",
          "iopub.status.busy": "2020-05-28T07:36:44.940Z",
          "iopub.status.idle": "2020-05-28T07:36:45.441Z",
          "shell.execute_reply": "2020-05-28T07:36:46.398Z"
        },
        "id": "aLrmr65YVepD"
      },
      "outputs": [],
      "source": [
        "data = pd.read_csv('/content/superconduct_train.csv')\n",
        "print(data.shape)"
      ]
    },
    {
      "cell_type": "code",
      "execution_count": null,
      "metadata": {
        "execution": {
          "iopub.execute_input": "2020-05-28T07:36:45.512Z",
          "iopub.status.busy": "2020-05-28T07:36:45.480Z",
          "iopub.status.idle": "2020-05-28T07:36:45.578Z",
          "shell.execute_reply": "2020-05-28T07:36:46.416Z"
        },
        "id": "VitIp37dVepD"
      },
      "outputs": [],
      "source": [
        "data.head()"
      ]
    },
    {
      "cell_type": "markdown",
      "metadata": {
        "id": "HFmNEBkCVepE"
      },
      "source": [
        "## Because the dataset is rather large, we prepare a small subset of the data as training set, and another subset as test set. To make the computations reproducible, we set the random seed. This makes the train and test splits same even if you re-run the notebook. Keeping the splits same is important for the fair models comparison."
      ]
    },
    {
      "cell_type": "code",
      "execution_count": null,
      "metadata": {
        "execution": {
          "iopub.execute_input": "2020-05-28T07:36:45.647Z",
          "iopub.status.busy": "2020-05-28T07:36:45.626Z",
          "iopub.status.idle": "2020-05-28T07:36:45.677Z",
          "shell.execute_reply": "2020-05-28T07:36:46.433Z"
        },
        "id": "EgGg5nsEVepE"
      },
      "outputs": [],
      "source": [
        "target_clm = 'critical_temp'  # the critical temperature is our target variable\n",
        "n_trainset = 200  # size of the training set\n",
        "n_testset = 50  # size of the test set\n",
        "feature_clms = [i for i in data.columns if i != target_clm]# creating a list of feature columns, which includes all columns in your dataset except the one that is the target column (target_clm) you want to predict."
      ]
    },
    {
      "cell_type": "markdown",
      "source": [
        "## In machine learning models, we usually start with splitting our data into train and test (and validation) sets. The fraction of train data is usually 75% - 80% and test (and validation) is the remaining.\n",
        "\n",
        "## Train data is used only for training and test data is used to evaluate your model on unseen data. It is a key step in machine learning."
      ],
      "metadata": {
        "id": "GaaOtCvmbtSA"
      }
    },
    {
      "cell_type": "code",
      "execution_count": null,
      "metadata": {
        "execution": {
          "iopub.execute_input": "2020-05-28T07:36:45.726Z",
          "iopub.status.busy": "2020-05-28T07:36:45.707Z",
          "iopub.status.idle": "2020-05-28T07:36:45.776Z",
          "shell.execute_reply": "2020-05-28T07:36:46.444Z"
        },
        "id": "i0Gp4MnjVepE"
      },
      "outputs": [],
      "source": [
        "from sklearn.model_selection import train_test_split\n",
        "# set random seed to make sure every test set is the same\n",
        "random_state = 42 # this helps to make your code reproducible. You can use any intereger\n",
        "data = data.iloc[:250, :] # create a subset of the large dataset\n",
        "Y = data[target_clm].to_numpy() # target variable to predict from other variables\n",
        "X = data[feature_clms].to_numpy() # features to train the model with\n",
        "\n",
        "# Split the data into train and test sets.\n",
        "X_train_full, X_test_full, y_train_full, y_test_full = train_test_split(X, Y,\n",
        "                                                    train_size=n_trainset,\n",
        "                                                    test_size = n_testset,\n",
        "                                                    random_state=random_state, # keeps the process reproducible\n",
        "                                                    shuffle=True # shuffle the order of samples\n",
        "                                                    )\n",
        "print('Full training set shapes (X and y):', X_train_full.shape, y_train_full.shape)\n",
        "print('Full test set shapes (X and y):', X_test_full.shape, y_test_full.shape)"
      ]
    },
    {
      "cell_type": "markdown",
      "metadata": {
        "collapsed": true,
        "jupyter": {
          "outputs_hidden": true
        },
        "id": "s6M5SBlXVepE"
      },
      "source": [
        "# **Data Visualization and Normalization**\n",
        "## Exploring your data is the first important task to do. It can give you insights about your features and their distributions. You can also find outliers, and less informative features early on in your analysis by visualizing your data and checking the statistics.\n",
        "\n",
        "## Data normalization is required to keep information clean, and keep the range of the features consistent. Otherwise, undesired behaviours can happen, e.g features with larger magnitudes dominate the model's predictions, while other features with lower magnitudes might be more informative.\n",
        "\n",
        "## **Task 1: Plot the dataset**\n",
        "\n",
        "## To explore the dataset, use `X_train_full` and `y_train_full` for two descriptive plots:\n",
        "\n",
        "##* **Histogram** of the target variable. Use `plt.hist`.\n",
        "\n",
        "##* **Scatter plots** relating the target variable to one of the feature values. For this, look into your raw data mean and variances for each feature in `X_train_full`, sort and select the 5 features with the highest variances. Use `plt.scatter` to visualize these features in X axis and `y_train_full` in Y-axis. (Hint: import numpy is np and use `np.var` to view the variance)\n",
        "\n",
        "## * **Box plots** to check the distribution of all of your features in your dataset. Use `plt.boxlpot` to visualize your `X_train_full` as boxes. Try to visualize the outliers.\n",
        "\n"
      ]
    },
    {
      "cell_type": "code",
      "execution_count": null,
      "metadata": {
        "execution": {
          "iopub.execute_input": "2020-05-28T07:36:45.829Z",
          "iopub.status.busy": "2020-05-28T07:36:45.809Z",
          "iopub.status.idle": "2020-05-28T07:36:45.893Z",
          "shell.execute_reply": "2020-05-28T07:36:46.455Z"
        },
        "id": "lNYKjLnpVepF"
      },
      "outputs": [],
      "source": [
        "# Histogram of the target variable\n"
      ]
    },
    {
      "cell_type": "code",
      "execution_count": null,
      "metadata": {
        "execution": {
          "iopub.execute_input": "2020-05-28T07:36:45.936Z",
          "iopub.status.busy": "2020-05-28T07:36:45.919Z",
          "iopub.status.idle": "2020-05-28T07:37:00.826Z",
          "shell.execute_reply": "2020-05-28T07:37:00.906Z"
        },
        "id": "-_ctTBpfVepF"
      },
      "outputs": [],
      "source": [
        "# Scatter plots of the target variable vs. features"
      ]
    },
    {
      "cell_type": "code",
      "source": [
        "# Box plots of the feature variables"
      ],
      "metadata": {
        "id": "M9JMRpGulvvZ"
      },
      "execution_count": null,
      "outputs": []
    },
    {
      "cell_type": "markdown",
      "source": [
        "## **Normalization**\n",
        "## To normalize your data, you need to select the normalization method. Look into your box plots and try to answer the following questions for yourself:\n",
        "\n",
        "##* Are your features normally distributed?\n",
        "\n",
        "##* Are there outliers in your data?\n",
        "\n",
        "##* Is your data distribution heavily skewed?\n",
        "<br>\n",
        "\n",
        "## Transformations based on your data\n",
        "\n",
        "##*The most commonly used normalization method is Z-score Normalization :\n",
        "\n",
        "##* Z-score Normalization (Standardization): Transforms data to have mean 0 and standard deviation 1. It works well for different distributions of data  or when you want to reduce outlier impact. It doesn’t bound data to a fixed range but handles varying scales well and is effective for many ML models.\n",
        "\n",
        "####* Note: Logarithmic transformation is another type of normalization technique. It is used when relative fold changes are significant, such as distinguishing between 0.1 and 0.01. Log transform compresses wide-ranging data into a smaller scale, making multiplicative differences additive. It is especially valuable when data is heavily peaked at zero and strictly positive. After log transformation, z-score normalization can be done to standardize the data, but keep in mind that z-score normalization can also be applied alone. See the image below showing a lognormal distribution vs a normal distribution![lognormal.jpeg](data:image/jpeg;base64,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)"
      ],
      "metadata": {
        "id": "FV1F35enkV-Q"
      }
    },
    {
      "cell_type": "markdown",
      "source": [
        "## **Task 2: Choose the suitable normalization technique for your data**\n",
        "\n",
        "\n",
        "\n",
        "##* Histogram for all features: plot a histogram for all of your features in a 9*9 grid. You can use AI. Are there outliers in your features?\n",
        "\n",
        "##* Which features you think would need log transformation?\n",
        "\n",
        "##* Log10 transform your 81 features and plot histograms of your normalized features in a 9*9 grid. Look specifically into features 21 and 34. How did they change before and after normalization?\n",
        "\n",
        "##* Standardize your log transformed data `(x-mean)/var`. Look into impact of the standardization of 81 features in one box plot. Compare them with those before normalization.\n",
        "\n",
        "##* Calculate the spearmann correlation coefficient between all of your 81 features and target variable. Use `spearmanr` in a `for` loop over all 81 features vs target variable. Plot the correlation coefficients as a single bar plot"
      ],
      "metadata": {
        "id": "aKGDyebC-PSD"
      }
    },
    {
      "cell_type": "code",
      "source": [
        "# Histogram before normalization"
      ],
      "metadata": {
        "id": "7z4rFVJrm7EB"
      },
      "execution_count": null,
      "outputs": []
    },
    {
      "cell_type": "code",
      "source": [
        "# Log norm and histogram after normalization"
      ],
      "metadata": {
        "id": "uJKd686tyubC"
      },
      "execution_count": null,
      "outputs": []
    },
    {
      "cell_type": "code",
      "source": [
        "# Standardizing the data and box plot"
      ],
      "metadata": {
        "id": "0U3Hr4ijyzu6"
      },
      "execution_count": null,
      "outputs": []
    },
    {
      "cell_type": "code",
      "source": [
        "# Spearmann correlation and bar plot- using normalised data (log transform and then standardization)\n"
      ],
      "metadata": {
        "id": "dahK-1_yzbGb"
      },
      "execution_count": null,
      "outputs": []
    },
    {
      "cell_type": "markdown",
      "metadata": {
        "id": "qRWvG_8-VepF"
      },
      "source": [
        "## Which material properties may be useful for predicting target value? What other observations can you make?"
      ]
    },
    {
      "cell_type": "markdown",
      "source": [
        "### Answer: Feature 62 and 68 have the highest positive correlation with the target variable. Feature 78 has the highest negative correlation with the target variable."
      ],
      "metadata": {
        "id": "0DwJTb6pBUg5"
      }
    },
    {
      "cell_type": "markdown",
      "metadata": {
        "id": "GvcDBUTDVepF"
      },
      "source": [
        "# **Ordinary Least Squares Linear Regression**\n",
        "\n",
        "## Linear regression is a statistical method that identifies the best-fitting linear relationship between variables by minimizing the sum of the squares of the differences (residuals) between observed and predicted values. We want to use linear regression to predict the y variable. The ordinary least squares estimator formula is:\n",
        "\n",
        "$y_i = w_0 + w_1*x_1 + w_2 * x_2 + ... + w_n * x_n + \\varepsilon_i$\n",
        "\n",
        "## Where $w_0$ is y-intercept. The goal is to find $w$ such that it minimizes $\\sum{\\varepsilon^2_i}$."
      ]
    },
    {
      "cell_type": "markdown",
      "metadata": {
        "id": "1j-zc-dbVepG"
      },
      "source": [
        "##Task 3: Use sklearn to fit a logistic regression model\n",
        "\n",
        "### Now, familiarize yourself with the sklearn library.\n",
        "\n",
        "### You will find `sklearn.linear_model.LogisticRegression`, the sklearn implementation of logistic regression.\n",
        "\n",
        "### Use this sklearn class to implement logistic regression. Obtain estimates of the weights on `X_train_full` and `y_train_full` and compute performance metrics such as accuracy and F1-score on `X_test_full` and `y_test_full`.\n",
        "\n",
        "### Before getting to the regression, it is important that you first normalize `X_train_full`and the `X_test_full data.\n",
        "### Hint: first log transform it and then apply Z-score normalization as you did when doing the normalization for the box plots ealier.\n",
        "\n"
      ]
    },
    {
      "cell_type": "code",
      "source": [
        "# NORMALIZE AND STANDARDIZE YOUR DATA\n",
        "# Log-transform\n",
        "X_log10_train =\n",
        "X_log10_test =\n",
        "# Compute mean and std from training set only\n",
        "means =\n",
        "stds =\n",
        "mean_test =\n",
        "std_test =\n",
        "# Standardize both train and test using training parameters\n",
        "X_standardized_train =\n",
        "X_standardized_test =\n",
        "y_standardized_test =\n",
        "y_standardized_train ="
      ],
      "metadata": {
        "id": "OJhwhyJPOBgO"
      },
      "execution_count": null,
      "outputs": []
    },
    {
      "cell_type": "code",
      "source": [
        "# Log-transform\n",
        "\n",
        "# Compute mean and std from training set only\n",
        "\n",
        "\n",
        "# Standardize both train and test using training parameters\n"
      ],
      "metadata": {
        "id": "uTL2y4bOB_3I"
      },
      "execution_count": null,
      "outputs": []
    },
    {
      "cell_type": "code",
      "execution_count": null,
      "metadata": {
        "execution": {
          "iopub.execute_input": "2020-05-28T07:37:03.074Z",
          "iopub.status.busy": "2020-05-28T07:37:03.042Z",
          "iopub.status.idle": "2020-05-28T07:37:03.124Z",
          "shell.execute_reply": "2020-05-28T07:37:03.285Z"
        },
        "id": "Pwe_wTOYVepG"
      },
      "outputs": [],
      "source": [
        "def sklearn_regression(X_test, X_train, y_train):\n",
        "    '''Computes OLS weights for linear regression without regularization using the sklearn library on the training set and\n",
        "       returns weights and testset predictions.\n",
        "\n",
        "       Inputs:\n",
        "         X_test: (n_observations, 81), numpy array with predictor values of the test set\n",
        "         X_train: (n_observations, 81), numpy array with predictor values of the training set\n",
        "         y_train: (n_observations,) numpy array with true target values for the training set\n",
        "\n",
        "       Outputs:\n",
        "         weights: The weight vector for the regression model including the intercept\n",
        "         y_pred_test: The predictions on the TEST set!\n",
        "         y_pred_train: The predictions on the TEST set!\n",
        "\n",
        "       Note:\n",
        "         The sklearn library automatically takes care of adding a column for the intercept.\n",
        "    '''\n",
        "\n",
        "    # ---------------- INSERT CODE ----------------------\n",
        "\n",
        "\n",
        "\n",
        "    # ---------------- END CODE -------------------------\n",
        "\n",
        "    return weights, y_pred_test,y_pred_train"
      ]
    },
    {
      "cell_type": "markdown",
      "source": [
        "### To make life a bit easier, we have already implemented a function to visualize your linear regression outputs below."
      ],
      "metadata": {
        "id": "jroiunFuClP-"
      }
    },
    {
      "cell_type": "code",
      "source": [
        "def plot_regression_results(y_test, y_pred, weights):\n",
        "    '''Produces three plots to analyze the results of linear regression:\n",
        "        -True vs predicted\n",
        "        -Raw residual histogram\n",
        "        -Weight histogram\n",
        "\n",
        "    Inputs:\n",
        "        y_test: (n_observations,) numpy array with true values\n",
        "        y_pred: (n_observations,) numpy array with predicted values\n",
        "        weights: (n_weights) numpy array with regression weights'''\n",
        "\n",
        "    print('MSE: ', mean_squared_error(y_test, y_pred))\n",
        "    print('r^2: ', r2_score(y_test, y_pred))\n",
        "\n",
        "    fig, ax = plt.subplots(1, 3, figsize=(9, 3))\n",
        "    # predicted vs true\n",
        "    ax[0].scatter(y_test, y_pred, s=2)\n",
        "    ax[0].set_title('True vs. Predicted')\n",
        "    ax[0].set_xlabel('True %s' % (target_clm))\n",
        "    ax[0].set_ylabel('Predicted %s' % (target_clm))\n",
        "\n",
        "    # residuals\n",
        "    error = np.squeeze(np.array(y_test)) - np.squeeze(np.array(y_pred))\n",
        "    ax[1].hist(np.array(error), bins=30)\n",
        "    ax[1].set_title('Raw residuals')\n",
        "    ax[1].set_xlabel('(true-predicted)')\n",
        "\n",
        "    # weight histogram\n",
        "    ax[2].hist(weights, bins=30)\n",
        "    ax[2].set_title('weight histogram')\n",
        "\n",
        "    plt.tight_layout()\n",
        "    plt.show()\n",
        "    plt.close()"
      ],
      "metadata": {
        "id": "x1rKMZiXCiQk"
      },
      "execution_count": null,
      "outputs": []
    },
    {
      "cell_type": "code",
      "execution_count": null,
      "metadata": {
        "execution": {
          "iopub.execute_input": "2020-05-28T07:37:03.206Z",
          "iopub.status.busy": "2020-05-28T07:37:03.180Z",
          "iopub.status.idle": "2020-05-28T07:37:04.059Z",
          "shell.execute_reply": "2020-05-28T07:37:04.195Z"
        },
        "id": "iKH0yMSQVepG"
      },
      "outputs": [],
      "source": [
        "weights, y_pred_test, y_pred_train = sklearn_regression(X_standardized_test, X_standardized_train, y_standardized_train)\n",
        "print('----------- ON TEST SET ----------------\\n')\n",
        "plot_regression_results(y_standardized_test, y_pred_test, weights)\n",
        "print('\\n----------- ON TRAIN SET ----------------\\n')\n",
        "plot_regression_results(y_standardized_train, y_pred_train, weights)"
      ]
    },
    {
      "cell_type": "markdown",
      "metadata": {
        "id": "7GyyzjVRVepG"
      },
      "source": [
        "### Look at your weight histogram and comment on the range of weights. What could this mean?\n",
        "If you implemented everything correctly, the MSE is 2."
      ]
    },
    {
      "cell_type": "markdown",
      "metadata": {
        "id": "nfvUus8qVepH"
      },
      "source": [
        "# **Ridge regression**\n",
        "\n",
        "## Also known as L2 regularization—is one of several types of regularization for linear regression models. Regularization is a statistical method to reduce errors caused by overfitting on training data. This is useful when developing machine learning models that have a large number of parameters, particularly if those parameters also have high weights.\n",
        "\n",
        "## The goal is to find $w$ such that minimizes the $\\sum{\\varepsilon^2_i} + \\alpha \\sum{w_j^2}$\n",
        "## This penalizes high $w$ coefficients. We have to choose one parameter $\\alpha$ that determines the amount of regularization."
      ]
    },
    {
      "cell_type": "markdown",
      "metadata": {
        "id": "yiAvl2SBVepH"
      },
      "source": [
        "## **Task 4: Use sklearn to complete the function below.**"
      ]
    },
    {
      "cell_type": "code",
      "execution_count": null,
      "metadata": {
        "execution": {
          "iopub.execute_input": "2020-05-28T07:37:07.315Z",
          "iopub.status.busy": "2020-05-28T07:37:07.282Z",
          "iopub.status.idle": "2020-05-28T07:37:07.361Z",
          "shell.execute_reply": "2020-05-28T07:37:07.552Z"
        },
        "id": "zCDD4W5dVepI"
      },
      "outputs": [],
      "source": [
        "def ridge_regression_sklearn(X_test, X_train, y_train, alpha):\n",
        "    '''Computes OLS weights for regularized linear regression with regularization strength alpha using the sklearn\n",
        "       library on the training set and returns weights and testset predictions.\n",
        "\n",
        "       Inputs:\n",
        "         X_test: (n_observations, 81), numpy array with predictor values of the test set\n",
        "         X_train: (n_observations, 81), numpy array with predictor values of the training set\n",
        "         y_train: (n_observations,) numpy array with true target values for the training set\n",
        "         alpha: scalar, regularization strength\n",
        "\n",
        "       Outputs:\n",
        "         weights: The weight vector for the regerssion model including the intercept.\n",
        "         y_pred_test: The predictions on the TEST set!\n",
        "         y_pred_train: The predictions on the TRAINING set!\n",
        "\n",
        "\n",
        "       Note:\n",
        "         The sklearn library automatically takes care of adding a column for the intercept.\n",
        "    '''\n",
        "\n",
        "    # ---------------- INSERT CODE ----------------------\n",
        "\n",
        "\n",
        "\n",
        "    # ---------------- END CODE -------------------------\n",
        "\n",
        "    return weights, y_pred_test, y_pred_train"
      ]
    },
    {
      "cell_type": "code",
      "source": [
        "weights, y_pred_test, y_pred_train = ridge_regression_sklearn(X_standardized_test, X_standardized_train, y_standardized_train, alpha=0.001)\n",
        "print('----------- ON TEST SET ----------------\\n')\n",
        "plot_regression_results(y_standardized_test, y_pred_test, weights)\n",
        "print('\\n----------- ON TRAINING SET ----------------\\n')\n",
        "plot_regression_results(y_standardized_train, y_pred_train, weights)"
      ],
      "metadata": {
        "id": "ixyPNjf_7nv6"
      },
      "execution_count": null,
      "outputs": []
    },
    {
      "cell_type": "markdown",
      "source": [],
      "metadata": {
        "id": "wtp33eGFIU7J"
      }
    },
    {
      "cell_type": "markdown",
      "source": [
        "### Do you see a difference between your train and test performance before and after ridge regression? Try to explain it.\n",
        "\n",
        "### What do you observe about the weight histogram when compared to the previous case?\n",
        "\n",
        "### Why do you think having lower weight values are important?\n"
      ],
      "metadata": {
        "id": "zzOoNJe7HsVX"
      }
    },
    {
      "cell_type": "markdown",
      "source": [
        "For further information about regression, refer to these points:\n",
        "\n",
        "1. Scatter Plot: True vs Predicted\n",
        "\n",
        "    Overfit Linear Regression: Predicted values do not align along the diagonal—they're widely scattered. This shows poor generalization and that the model is fitting noise from the training set and not underlying structure.\n",
        "\n",
        "    After Ridge Regression: Points cluster more closely around the diagonal line, indicating more accurate predictions.\n",
        "\n",
        "    ​\n",
        "\n",
        "2. Raw Residuals Histogram\n",
        "\n",
        "    Overfit Linear Regression: The residuals (true minus predicted) are widely spread, often with extreme outliers. This indicates the model is making large errors on test samples and cannot generalize due to having fit noise in the training data.\n",
        "\n",
        "    ​\n",
        "\n",
        "    After Ridge Regression: Residuals are more tightly centered near zero, the histogram is narrower and less extreme. Regularization reduces model variance and mean squared error magnitude.\n",
        "\n",
        "3. Weight Histogram\n",
        "\n",
        "    Overfit Linear Regression: The histogram shows some regression weights (coefficients) with very large or extreme values. This is a classic overfitting symptom—the model has assigned huge importance to some features in its effort to fit every sample in the training set perfectly.\n",
        "\n",
        "    ​\n",
        "\n",
        "    After Ridge Regression: The weights shrink and are more concentrated around zero. Ridge regression penalizes large values, so this histogram becomes more compact, indicating less complex (and less overfit) model behavior.\n",
        "\n",
        "4. MSE (Mean Squared Error) and $R^2$\n",
        "\n",
        "    Overfit Linear Regression: MSE for test set is high (model makes large mistakes on the test set) and low for training set, and $R^2$ is often negative or much lower than on the training set (sometimes even worse than just predicting the mean)."
      ],
      "metadata": {
        "id": "xC8h5rpoH-WJ"
      }
    },
    {
      "cell_type": "markdown",
      "metadata": {
        "id": "ysDTyfCVVepI"
      },
      "source": [
        "## **Task 5: Cross-validation**\n",
        "\n",
        "## Until now, we always estimated the error on the test set directly. However, we typically do not want to tune hyperparameters of our inference algorithms like $\\alpha$ on the test set, as this may lead to overfitting. Therefore, we tune them on the training set using cross-validation. As discussed in the lecture, the training data is here split in `n_folds`-ways, where each of the folds serves as a held-out dataset in turn and the model is always trained on the remaining data. Implement a function that performs cross-validation for the ridge regression parameter $\\alpha$."
      ]
    },
    {
      "cell_type": "code",
      "execution_count": null,
      "metadata": {
        "execution": {
          "iopub.execute_input": "2020-05-28T07:37:08.317Z",
          "iopub.status.busy": "2020-05-28T07:37:08.279Z",
          "iopub.status.idle": "2020-05-28T07:37:08.375Z",
          "shell.execute_reply": "2020-05-28T07:37:08.556Z"
        },
        "id": "dVQtkHX1VepI"
      },
      "outputs": [],
      "source": [
        "def ridgeCV(X, y, n_folds, alphas):\n",
        "    '''Runs a n_fold-crossvalidation over the ridge regression parameter alpha.\n",
        "       The function should train the linear regression model for each fold on all values of alpha.\n",
        "\n",
        "      Inputs:\n",
        "        X: (n_obs, n_features) numpy array - predictor\n",
        "        y: (n_obs,) numpy array - target\n",
        "        n_folds: integer - number of CV folds\n",
        "        alphas: (n_parameters,) - regularization strength parameters to CV over\n",
        "\n",
        "      Outputs:\n",
        "        cv_results_mse: (n_folds, len(alphas)) numpy array, MSE for each cross-validation fold\n",
        "\n",
        "      Note:\n",
        "        Fix the seed for reproducibility.\n",
        "    '''\n",
        "\n",
        "    cv_results_mse = np.zeros((n_folds, len(alphas)))\n",
        "    np.random.seed(seed=2)\n",
        "\n",
        "    # ---------------- INSERT CODE ----------------------\n",
        "\n",
        "\n",
        "\n",
        "    # ---------------- END CODE -------------------------\n",
        "\n",
        "    return cv_results_mse"
      ]
    },
    {
      "cell_type": "markdown",
      "metadata": {
        "id": "GGftF0n8VepJ"
      },
      "source": [
        "## Now we run 10-fold cross-validation using the training data of a range of $\\alpha$s."
      ]
    },
    {
      "cell_type": "code",
      "execution_count": null,
      "metadata": {
        "execution": {
          "iopub.execute_input": "2020-05-28T07:37:08.472Z",
          "iopub.status.busy": "2020-05-28T07:37:08.432Z",
          "iopub.status.idle": "2020-05-28T07:37:09.886Z",
          "shell.execute_reply": "2020-05-28T07:37:10.010Z"
        },
        "id": "elFBWJLfVepJ"
      },
      "outputs": [],
      "source": [
        "alphas = np.logspace(-7, 7, 100)\n",
        "mse_cv = ridgeCV(X_standardized_train, y_standardized_train, n_folds=10, alphas=alphas)"
      ]
    },
    {
      "cell_type": "markdown",
      "metadata": {
        "id": "us546jx1VepJ"
      },
      "source": [
        "## We plot the MSE trace for each fold separately:"
      ]
    },
    {
      "cell_type": "code",
      "execution_count": null,
      "metadata": {
        "execution": {
          "iopub.execute_input": "2020-05-28T07:37:09.963Z",
          "iopub.status.busy": "2020-05-28T07:37:09.933Z",
          "iopub.status.idle": "2020-05-28T07:37:10.445Z",
          "shell.execute_reply": "2020-05-28T07:37:10.539Z"
        },
        "id": "SvSGj__1VepJ"
      },
      "outputs": [],
      "source": [
        "plt.plot(alphas, mse_cv.T, '.-')\n",
        "plt.xscale('log')\n",
        "plt.xlabel('alpha')\n",
        "plt.ylabel('Mean squared error')\n",
        "plt.tight_layout()"
      ]
    },
    {
      "cell_type": "markdown",
      "metadata": {
        "id": "gmsLmRq-VepJ"
      },
      "source": [
        "## To get a more interpretable answer, we also plot the average across folds:"
      ]
    },
    {
      "cell_type": "code",
      "execution_count": null,
      "metadata": {
        "execution": {
          "iopub.execute_input": "2020-05-28T07:37:10.500Z",
          "iopub.status.busy": "2020-05-28T07:37:10.477Z",
          "iopub.status.idle": "2020-05-28T07:37:10.934Z",
          "shell.execute_reply": "2020-05-28T07:37:11.085Z"
        },
        "id": "XEF_tx0zVepJ"
      },
      "outputs": [],
      "source": [
        "plt.figure(figsize=(6, 4))\n",
        "plt.plot(alphas, np.mean(mse_cv, axis=0), '.-')\n",
        "plt.xscale('log')\n",
        "plt.xlabel('alpha')\n",
        "plt.ylabel('Mean squared error')\n",
        "plt.tight_layout()"
      ]
    },
    {
      "cell_type": "markdown",
      "metadata": {
        "id": "9tQVT_xzVepJ"
      },
      "source": [
        "## What is the optimal $\\alpha$? Is it similar to the one found on the test set? Do the cross-validation MSE and the test-set MSE match well or differ strongly?"
      ]
    },
    {
      "cell_type": "markdown",
      "metadata": {
        "id": "0jvfslB4VepJ"
      },
      "source": [
        "YOUR ANSWER HERE"
      ]
    },
    {
      "cell_type": "code",
      "source": [
        "# replace your alpha here and run the next code to see how better you get with this new alpha\n",
        "new_alpha = # fill"
      ],
      "metadata": {
        "id": "YNKpp8JNNII3"
      },
      "execution_count": null,
      "outputs": []
    },
    {
      "cell_type": "code",
      "source": [
        "weights, y_pred_test, y_pred_train = ridge_regression_sklearn(X_standardized_test, X_standardized_train, y_standardized_train, alpha=new_alpha)\n",
        "print('----------- ON TEST SET ----------------\\n')\n",
        "plot_regression_results(y_standardized_test, y_pred_test, weights)\n",
        "print('\\n----------- ON TRAINING SET ----------------\\n')\n",
        "plot_regression_results(y_standardized_train, y_pred_train, weights)"
      ],
      "metadata": {
        "id": "D0hjzWJ1MX2t"
      },
      "execution_count": null,
      "outputs": []
    },
    {
      "cell_type": "code",
      "source": [],
      "metadata": {
        "id": "AWWhgOvwMfeb"
      },
      "execution_count": null,
      "outputs": []
    }
  ],
  "metadata": {
    "kernelspec": {
      "display_name": "Python 3 (ipykernel)",
      "language": "python",
      "name": "python3"
    },
    "language_info": {
      "codemirror_mode": {
        "name": "ipython",
        "version": 3
      },
      "file_extension": ".py",
      "mimetype": "text/x-python",
      "name": "python",
      "nbconvert_exporter": "python",
      "pygments_lexer": "ipython3",
      "version": "3.9.18"
    },
    "nteract": {
      "version": "0.28.0"
    },
    "varInspector": {
      "cols": {
        "lenName": 16,
        "lenType": 16,
        "lenVar": 40
      },
      "kernels_config": {
        "python": {
          "delete_cmd_postfix": "",
          "delete_cmd_prefix": "del ",
          "library": "var_list.py",
          "varRefreshCmd": "print(var_dic_list())"
        },
        "r": {
          "delete_cmd_postfix": ") ",
          "delete_cmd_prefix": "rm(",
          "library": "var_list.r",
          "varRefreshCmd": "cat(var_dic_list()) "
        }
      },
      "types_to_exclude": [
        "module",
        "function",
        "builtin_function_or_method",
        "instance",
        "_Feature"
      ],
      "window_display": false
    },
    "colab": {
      "provenance": [],
      "include_colab_link": true
    }
  },
  "nbformat": 4,
  "nbformat_minor": 0
}